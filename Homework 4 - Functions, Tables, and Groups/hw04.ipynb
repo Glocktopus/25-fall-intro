{
 "cells": [
  {
   "cell_type": "code",
   "id": "65adef80",
   "metadata": {
    "deletable": false,
    "editable": false,
    "ExecuteTime": {
     "end_time": "2025-10-10T15:16:39.474976Z",
     "start_time": "2025-10-10T15:16:35.657210Z"
    }
   },
   "source": [
    "# Initialize Otter\n",
    "import otter\n",
    "from numpy.ma.extras import average\n",
    "\n",
    "grader = otter.Notebook(\"hw04.ipynb\")"
   ],
   "outputs": [],
   "execution_count": 2
  },
  {
   "cell_type": "markdown",
   "id": "b78e7a8e",
   "metadata": {},
   "source": [
    "# Homework 4: Functions, Tables, and Groups\n",
    "\n",
    "Please complete this notebook by filling in the cells provided. Before you begin, execute the previous cell to load the provided tests."
   ]
  },
  {
   "attachments": {},
   "cell_type": "markdown",
   "id": "9654e63e",
   "metadata": {},
   "source": [
    "**Helpful Resource:**\n",
    "- [Python Reference](http://data8.org/su24/reference/): Cheat sheet of helpful array & table methods used in Data 8!\n",
    "\n",
    "**Recommended Readings**: \n",
    "\n",
    "* [Visualizing Numerical Distributions](https://www.inferentialthinking.com/chapters/07/2/Visualizing_Numerical_Distributions.html)\n",
    "* [Functions and Tables](https://www.inferentialthinking.com/chapters/08/Functions_and_Tables.html)"
   ]
  },
  {
   "cell_type": "markdown",
   "id": "58a257f5",
   "metadata": {},
   "source": [
    "## 1. Burrito-ful San Diego"
   ]
  },
  {
   "cell_type": "code",
   "id": "8109eebe",
   "metadata": {
    "ExecuteTime": {
     "end_time": "2025-10-10T15:16:44.788934Z",
     "start_time": "2025-10-10T15:16:39.481574Z"
    }
   },
   "source": [
    "# Run this cell to set up the notebook, but please don't change it.\n",
    "\n",
    "# These lines import the Numpy and Datascience modules.\n",
    "import numpy as np\n",
    "from datascience import *\n",
    "\n",
    "# These lines do some fancy plotting magic.\n",
    "import matplotlib\n",
    "%matplotlib inline\n",
    "import matplotlib.pyplot as plt\n",
    "plt.style.use('fivethirtyeight')\n",
    "\n",
    "import warnings\n",
    "warnings.simplefilter('ignore', FutureWarning)\n",
    "warnings.filterwarnings(\"ignore\")"
   ],
   "outputs": [],
   "execution_count": 3
  },
  {
   "cell_type": "markdown",
   "id": "4888692f",
   "metadata": {},
   "source": [
    "Edwin, Gamy and Andrew are trying to use Data Science to find the best burritos in San Diego! Their friends Jessica, Aileen, and Conan provided them with two comprehensive datasets on many burrito establishments in the San Diego area taken and cleaned from [here](https://www.kaggle.com/srcole/burritos-in-san-diego/data)"
   ]
  },
  {
   "cell_type": "markdown",
   "id": "4e2c75ba",
   "metadata": {},
   "source": [
    "The following cell reads in a table called `ratings` which contains names of burrito restaurants, their Yelp rating, Google rating, as well as their overall rating. The `Overall` rating is not an average of the `Yelp` and `Google` ratings, but rather it is the overall rating of the customers that were surveyed in the study above.\n",
    "\n",
    "\n",
    "It also reads in a table called `burritos_types` which contains names of burrito restaurants, their menu items, and the cost of the respective menu item at the restaurant."
   ]
  },
  {
   "cell_type": "code",
   "id": "ebc4af58",
   "metadata": {
    "deletable": false,
    "editable": false,
    "ExecuteTime": {
     "end_time": "2025-10-10T15:16:44.846160Z",
     "start_time": "2025-10-10T15:16:44.812783Z"
    }
   },
   "source": [
    "# Just run this cell\n",
    "ratings = Table.read_table(\"ratings.csv\")\n",
    "ratings.show(5)\n",
    "burritos_types = Table.read_table(\"burritos_types.csv\").drop(0)\n",
    "burritos_types.show(5)"
   ],
   "outputs": [
    {
     "data": {
      "text/plain": [
       "<IPython.core.display.HTML object>"
      ],
      "text/html": [
       "<table border=\"1\" class=\"dataframe\">\n",
       "    <thead>\n",
       "        <tr>\n",
       "            <th>Name</th> <th>Yelp</th> <th>Google</th> <th>Overall</th>\n",
       "        </tr>\n",
       "    </thead>\n",
       "    <tbody>\n",
       "        <tr>\n",
       "            <td>Albertacos                </td> <td>3.5 </td> <td>3.9   </td> <td>3.45   </td>\n",
       "        </tr>\n",
       "        <tr>\n",
       "            <td>Burrito Factory           </td> <td>4.5 </td> <td>4.8   </td> <td>3.5    </td>\n",
       "        </tr>\n",
       "        <tr>\n",
       "            <td>Burros and Fries          </td> <td>3.5 </td> <td>4.1   </td> <td>3.575  </td>\n",
       "        </tr>\n",
       "        <tr>\n",
       "            <td>Caliente Mexican Food     </td> <td>3.5 </td> <td>4.4   </td> <td>3.25   </td>\n",
       "        </tr>\n",
       "        <tr>\n",
       "            <td>California Burrito Company</td> <td>3.5 </td> <td>4.4   </td> <td>3.2    </td>\n",
       "        </tr>\n",
       "    </tbody>\n",
       "</table>\n",
       "<p>... (77 rows omitted)</p>"
      ]
     },
     "metadata": {},
     "output_type": "display_data"
    },
    {
     "data": {
      "text/plain": [
       "<IPython.core.display.HTML object>"
      ],
      "text/html": [
       "<table border=\"1\" class=\"dataframe\">\n",
       "    <thead>\n",
       "        <tr>\n",
       "            <th>Name</th> <th>Menu_Item</th> <th>Cost</th>\n",
       "        </tr>\n",
       "    </thead>\n",
       "    <tbody>\n",
       "        <tr>\n",
       "            <td>Albertacos                                         </td> <td>California          </td> <td>5.7 </td>\n",
       "        </tr>\n",
       "        <tr>\n",
       "            <td>Albertacos                                         </td> <td>Carne Asada         </td> <td>5.25</td>\n",
       "        </tr>\n",
       "        <tr>\n",
       "            <td>Alberto's 623 N Escondido Blvd, Escondido, CA 92025</td> <td>Carne Asada         </td> <td>4.59</td>\n",
       "        </tr>\n",
       "        <tr>\n",
       "            <td>Burrito Box                                        </td> <td>Steak With Guacamole</td> <td>11.5</td>\n",
       "        </tr>\n",
       "        <tr>\n",
       "            <td>Burrito Factory                                    </td> <td>Steak Everything    </td> <td>7.35</td>\n",
       "        </tr>\n",
       "    </tbody>\n",
       "</table>\n",
       "<p>... (244 rows omitted)</p>"
      ]
     },
     "metadata": {},
     "output_type": "display_data"
    }
   ],
   "execution_count": 4
  },
  {
   "attachments": {},
   "cell_type": "markdown",
   "id": "0ab88f57",
   "metadata": {},
   "source": [
    "**Question 1.** It would be easier if we could combine the information in both tables. Assign `burritos` to the result of joining the two tables together, so that we have a table with the ratings for every corresponding menu item from every restaurant. Each menu item has the same rating as the restaurant from which it is from.\n",
    "\n",
    "*Note:* It doesn't matter which table you put in as the argument to the table method, either order will work for the autograder tests.\n",
    "\n",
    "*Hint:* Which function lets us combine information from two tables? Refer to the [Python Reference Sheet](http://data8.org/su24/reference/) if you're unsure!\n"
   ]
  },
  {
   "cell_type": "code",
   "id": "baf97c72",
   "metadata": {
    "scrolled": true,
    "tags": [],
    "ExecuteTime": {
     "end_time": "2025-10-10T15:16:44.967754Z",
     "start_time": "2025-10-10T15:16:44.958745Z"
    }
   },
   "source": [
    "burritos = ratings.join('Name', burritos_types, 'Name')\n",
    "burritos.show(10)"
   ],
   "outputs": [
    {
     "data": {
      "text/plain": [
       "<IPython.core.display.HTML object>"
      ],
      "text/html": [
       "<table border=\"1\" class=\"dataframe\">\n",
       "    <thead>\n",
       "        <tr>\n",
       "            <th>Name</th> <th>Yelp</th> <th>Google</th> <th>Overall</th> <th>Menu_Item</th> <th>Cost</th>\n",
       "        </tr>\n",
       "    </thead>\n",
       "    <tbody>\n",
       "        <tr>\n",
       "            <td>Albertacos                </td> <td>3.5 </td> <td>3.9   </td> <td>3.45   </td> <td>California       </td> <td>5.7 </td>\n",
       "        </tr>\n",
       "        <tr>\n",
       "            <td>Albertacos                </td> <td>3.5 </td> <td>3.9   </td> <td>3.45   </td> <td>Carne Asada      </td> <td>5.25</td>\n",
       "        </tr>\n",
       "        <tr>\n",
       "            <td>Burrito Factory           </td> <td>4.5 </td> <td>4.8   </td> <td>3.5    </td> <td>Steak Everything </td> <td>7.35</td>\n",
       "        </tr>\n",
       "        <tr>\n",
       "            <td>Burros and Fries          </td> <td>3.5 </td> <td>4.1   </td> <td>3.575  </td> <td>California       </td> <td>7.19</td>\n",
       "        </tr>\n",
       "        <tr>\n",
       "            <td>Burros and Fries          </td> <td>3.5 </td> <td>4.1   </td> <td>3.575  </td> <td>Carne Asada      </td> <td>6.89</td>\n",
       "        </tr>\n",
       "        <tr>\n",
       "            <td>Burros and Fries          </td> <td>3.5 </td> <td>4.1   </td> <td>3.575  </td> <td>Shrimp California</td> <td>6.99</td>\n",
       "        </tr>\n",
       "        <tr>\n",
       "            <td>Caliente Mexican Food     </td> <td>3.5 </td> <td>4.4   </td> <td>3.25   </td> <td>California       </td> <td>6.47</td>\n",
       "        </tr>\n",
       "        <tr>\n",
       "            <td>Caliente Mexican Food     </td> <td>3.5 </td> <td>4.4   </td> <td>3.25   </td> <td>Carne Asada      </td> <td>5.56</td>\n",
       "        </tr>\n",
       "        <tr>\n",
       "            <td>Caliente Mexican Food     </td> <td>3.5 </td> <td>4.4   </td> <td>3.25   </td> <td>Fried Fish       </td> <td>5.56</td>\n",
       "        </tr>\n",
       "        <tr>\n",
       "            <td>California Burrito Company</td> <td>3.5 </td> <td>4.4   </td> <td>3.2    </td> <td>California       </td> <td>5.5 </td>\n",
       "        </tr>\n",
       "    </tbody>\n",
       "</table>\n",
       "<p>... (202 rows omitted)</p>"
      ]
     },
     "metadata": {},
     "output_type": "display_data"
    }
   ],
   "execution_count": 5
  },
  {
   "cell_type": "code",
   "id": "73e4f384",
   "metadata": {
    "deletable": false,
    "editable": false,
    "ExecuteTime": {
     "end_time": "2025-10-10T15:16:45.088389Z",
     "start_time": "2025-10-10T15:16:45.068858Z"
    }
   },
   "source": [
    "grader.check(\"q1_1\")"
   ],
   "outputs": [
    {
     "data": {
      "text/plain": [
       "q1_1 results: All test cases passed!"
      ],
      "text/html": [
       "<p><strong><pre style='display: inline;'>q1_1</pre></strong> passed! 🎉</p>"
      ]
     },
     "execution_count": 6,
     "metadata": {},
     "output_type": "execute_result"
    }
   ],
   "execution_count": 6
  },
  {
   "cell_type": "markdown",
   "id": "59b7e535",
   "metadata": {},
   "source": [
    "<!-- BEGIN QUESTION -->\n",
    "\n",
    "**Question 2.** Let's look at how the Yelp scores compare to the Google scores in the `burritos` table. First, assign `yelp_google_tbl` to a table only containing the columns `Yelp` and `Google`. Then, make a scatter plot with Yelp scores on the x-axis and the Google scores on the y-axis.\n"
   ]
  },
  {
   "cell_type": "code",
   "id": "d71741d3",
   "metadata": {
    "tags": [],
    "ExecuteTime": {
     "end_time": "2025-10-10T15:16:45.318526Z",
     "start_time": "2025-10-10T15:16:45.170636Z"
    }
   },
   "source": [
    "yelp_google_tbl = burritos.select('Yelp', 'Google')\n",
    "yelp_google_tbl.scatter('Yelp', 'Google')\n",
    "\n",
    "# Don't change/edit/remove the following line.\n",
    "# To help you make conclusions, we have plotted a straight line on the graph (y=x).\n",
    "plt.plot(np.arange(2.5,5,.5), np.arange(2.5,5,.5));"
   ],
   "outputs": [
    {
     "data": {
      "text/plain": [
       "<Figure size 500x500 with 1 Axes>"
      ],
      "image/png": "[encoded data removed]"
     },
     "metadata": {},
     "output_type": "display_data"
    }
   ],
   "execution_count": 7
  },
  {
   "cell_type": "markdown",
   "id": "58aeec99",
   "metadata": {},
   "source": [
    "<!-- END QUESTION -->\n",
    "\n",
    "<!-- BEGIN QUESTION -->\n",
    "\n",
    "**Question 3.** Looking at the scatter plot you just made in Question 1.2, do you notice any pattern(s) or relationships between Yelp and Google ratings (i.e. is one of the two types of scores consistently higher than the other one)? If so, describe them **briefly** in the cell below.\n"
   ]
  },
  {
   "cell_type": "markdown",
   "id": "899f7af0",
   "metadata": {},
   "source": "Yelp may be more critical than Google. There are more points above the line than below the line."
  },
  {
   "cell_type": "markdown",
   "id": "0e2ae6ec",
   "metadata": {},
   "source": [
    "<!-- END QUESTION -->\n",
    "\n",
    "Here's a refresher on how `.group` works! You can read how `.group` works in the [textbook](https://www.inferentialthinking.com/chapters/08/2/Classifying_by_One_Variable.html), or you can view the video below. The video resource was made by a past staff member, Divyesh Chotai!\n",
    "\n",
    "You can also use the [Table Functions Visualizer](http://data8.org/interactive_table_functions/) to get some more hands-on experience with the `.group` function."
   ]
  },
  {
   "cell_type": "code",
   "id": "444a6614",
   "metadata": {
    "ExecuteTime": {
     "end_time": "2025-10-10T15:16:45.532284Z",
     "start_time": "2025-10-10T15:16:45.325786Z"
    }
   },
   "source": [
    "# Don't worry about what this code does! It simply embeds a YouTube video into a code cell.\n",
    "from IPython.display import YouTubeVideo\n",
    "YouTubeVideo(\"HLoYTCUP0fc\")"
   ],
   "outputs": [
    {
     "data": {
      "text/plain": [
       "<IPython.lib.display.YouTubeVideo at 0x13a457e2cf0>"
      ],
      "text/html": [
       "\n",
       "        <iframe\n",
       "            width=\"400\"\n",
       "            height=\"300\"\n",
       "            src=\"https://www.youtube.com/embed/HLoYTCUP0fc\"\n",
       "            frameborder=\"0\"\n",
       "            allowfullscreen\n",
       "            \n",
       "        ></iframe>\n",
       "        "
      ],
      "image/jpeg": "[encoded data removed]"
     },
     "execution_count": 8,
     "metadata": {},
     "output_type": "execute_result"
    }
   ],
   "execution_count": 8
  },
  {
   "cell_type": "markdown",
   "id": "1b38f476",
   "metadata": {},
   "source": [
    "**Question 4.** There are so many types of California burritos in the `burritos` table! Gamy wants to consider his options for burritos based on rankings. For the sake of these questions, we are treating each menu item's rating the same as its respective restaurant's, as we do not have the rating of every single item at these restaurants. You do not need to worry about this fact, but we thought to mention it!\n",
    "\n",
    "Create a table with two columns: the first column include the **names of the burritos** and the second column should contain the **average overall rating** of that burrito across restaurants. **In your calculations, you should only compare burritos that contain the word \"California\".** For example, there are \"California\" burritos, \"California Breakfast\" burritos, \"California Surf And Turf\" burritos, etc.\n",
    "\n",
    "*Hint:* “California” is case sensitive (“California” is not the same as “california”)! Consult the table in 6.2.5 of the textbook for a way to check whether a string contains \"California\".\n",
    "\n",
    "*Note:* For reference, the staff solution only used one line. However, feel free to break up the solution into multiple lines and steps; just make sure you assign the final output table to `california_burritos`! \n"
   ]
  },
  {
   "cell_type": "code",
   "id": "5a7063c8",
   "metadata": {
    "tags": [],
    "ExecuteTime": {
     "end_time": "2025-10-10T15:16:45.562165Z",
     "start_time": "2025-10-10T15:16:45.552997Z"
    }
   },
   "source": [
    "filtered_table = burritos.where(\"Menu_Item\", are.containing(\"California\"))\n",
    "filtered_table = filtered_table.select('Overall', 'Menu_Item')\n",
    "california_burritos = filtered_table.group('Menu_Item', np.mean)\n",
    "filtered_table"
   ],
   "outputs": [
    {
     "data": {
      "text/plain": [
       "Overall | Menu_Item\n",
       "3.45    | California\n",
       "3.575   | California\n",
       "3.575   | Shrimp California\n",
       "3.25    | California\n",
       "3.2     | California\n",
       "3.2     | Dave'S California\n",
       "4.1     | California (Only Cheese)\n",
       "4.1     | California Everything\n",
       "4.1     | California Everything\n",
       "4.1     | California Everything Mini\n",
       "... (65 rows omitted)"
      ],
      "text/html": [
       "<table border=\"1\" class=\"dataframe\">\n",
       "    <thead>\n",
       "        <tr>\n",
       "            <th>Overall</th> <th>Menu_Item</th>\n",
       "        </tr>\n",
       "    </thead>\n",
       "    <tbody>\n",
       "        <tr>\n",
       "            <td>3.45   </td> <td>California                </td>\n",
       "        </tr>\n",
       "        <tr>\n",
       "            <td>3.575  </td> <td>California                </td>\n",
       "        </tr>\n",
       "        <tr>\n",
       "            <td>3.575  </td> <td>Shrimp California         </td>\n",
       "        </tr>\n",
       "        <tr>\n",
       "            <td>3.25   </td> <td>California                </td>\n",
       "        </tr>\n",
       "        <tr>\n",
       "            <td>3.2    </td> <td>California                </td>\n",
       "        </tr>\n",
       "        <tr>\n",
       "            <td>3.2    </td> <td>Dave'S California         </td>\n",
       "        </tr>\n",
       "        <tr>\n",
       "            <td>4.1    </td> <td>California (Only Cheese)  </td>\n",
       "        </tr>\n",
       "        <tr>\n",
       "            <td>4.1    </td> <td>California Everything     </td>\n",
       "        </tr>\n",
       "        <tr>\n",
       "            <td>4.1    </td> <td>California Everything     </td>\n",
       "        </tr>\n",
       "        <tr>\n",
       "            <td>4.1    </td> <td>California Everything Mini</td>\n",
       "        </tr>\n",
       "    </tbody>\n",
       "</table>\n",
       "<p>... (65 rows omitted)</p>"
      ]
     },
     "execution_count": 9,
     "metadata": {},
     "output_type": "execute_result"
    }
   ],
   "execution_count": 9
  },
  {
   "cell_type": "code",
   "id": "b9e5bc0d",
   "metadata": {
    "deletable": false,
    "editable": false,
    "ExecuteTime": {
     "end_time": "2025-10-10T15:16:45.607147Z",
     "start_time": "2025-10-10T15:16:45.586969Z"
    }
   },
   "source": [
    "grader.check(\"q1_4\")"
   ],
   "outputs": [
    {
     "data": {
      "text/plain": [
       "q1_4 results: All test cases passed!"
      ],
      "text/html": [
       "<p><strong><pre style='display: inline;'>q1_4</pre></strong> passed! ✨</p>"
      ]
     },
     "execution_count": 10,
     "metadata": {},
     "output_type": "execute_result"
    }
   ],
   "execution_count": 10
  },
  {
   "cell_type": "markdown",
   "id": "c758fd2f",
   "metadata": {},
   "source": [
    "**Question 5.** Given this new table `california_burritos`, Andrew can figure out the name of the California burrito with the highest overall average rating! Assign `best_california_burrito` to a line of code that outputs the string that represents the name of the California burrito with the highest overall average rating. If multiple burritos satisfy this criteria, you can output any one of them.\n"
   ]
  },
  {
   "cell_type": "code",
   "id": "14c326c6",
   "metadata": {
    "tags": [],
    "ExecuteTime": {
     "end_time": "2025-10-10T15:16:45.663325Z",
     "start_time": "2025-10-10T15:16:45.658941Z"
    }
   },
   "source": [
    "best_california_burrito = california_burritos.sort('Overall mean').column('Menu_Item').item(0)\n",
    "best_california_burrito"
   ],
   "outputs": [
    {
     "data": {
      "text/plain": [
       "'California Breakfast'"
      ]
     },
     "execution_count": 11,
     "metadata": {},
     "output_type": "execute_result"
    }
   ],
   "execution_count": 11
  },
  {
   "cell_type": "code",
   "id": "b7221413",
   "metadata": {
    "deletable": false,
    "editable": false,
    "ExecuteTime": {
     "end_time": "2025-10-10T15:16:45.780064Z",
     "start_time": "2025-10-10T15:16:45.762857Z"
    }
   },
   "source": [
    "grader.check(\"q1_5\")"
   ],
   "outputs": [
    {
     "data": {
      "text/plain": [
       "q1_5 results: All test cases passed!"
      ],
      "text/html": [
       "<p><strong><pre style='display: inline;'>q1_5</pre></strong> passed! 🎉</p>"
      ]
     },
     "execution_count": 12,
     "metadata": {},
     "output_type": "execute_result"
    }
   ],
   "execution_count": 12
  },
  {
   "cell_type": "markdown",
   "id": "49b81409",
   "metadata": {},
   "source": [
    "<!-- BEGIN QUESTION -->\n",
    "\n",
    "**Question 6.** Edwin thinks that burritos in San Diego are cheaper (and taste better) than the burritos in Berkeley. Plot a histogram that visualizes that distribution of the costs of the burritos from San Diego in the `burritos` table. Also use the provided `cost_bins` variable when making your histogram, so that the histogram is more visually informative.\n"
   ]
  },
  {
   "cell_type": "code",
   "id": "6a2978ea",
   "metadata": {
    "tags": [],
    "ExecuteTime": {
     "end_time": "2025-10-10T15:16:45.937251Z",
     "start_time": "2025-10-10T15:16:45.829810Z"
    }
   },
   "source": [
    "cost_bins = np.arange(0, 15, 1) # Do not change this line\n",
    "# Please also use the provided bins\n",
    "burritos.hist('Cost', bins = cost_bins)"
   ],
   "outputs": [
    {
     "data": {
      "text/plain": [
       "<Figure size 600x400 with 1 Axes>"
      ],
      "image/png": "[encoded data removed]"
     },
     "metadata": {},
     "output_type": "display_data"
    }
   ],
   "execution_count": 13
  },
  {
   "cell_type": "markdown",
   "id": "24fdbf30",
   "metadata": {},
   "source": [
    "## 2. San Francisco City Employee Salaries"
   ]
  },
  {
   "attachments": {},
   "cell_type": "markdown",
   "id": "f3bdc2e5",
   "metadata": {},
   "source": [
    "This exercise is designed to give you practice with using the Table methods `.pivot` and `.group`. Here is a link to the [Python Reference](http://data8.org/su24/reference/) in case you need a quick refresher. The [Table Function Visualizer](http://data8.org/interactive_table_functions/) may also be a helpful tool.\n",
    "\n",
    "Run the cell below to view a demo on how you can use pivot on a table. (Thank you to past staff Divyesh Chotai!) "
   ]
  },
  {
   "cell_type": "code",
   "id": "3b0c0595",
   "metadata": {
    "scrolled": true,
    "ExecuteTime": {
     "end_time": "2025-10-10T15:16:46.148549Z",
     "start_time": "2025-10-10T15:16:45.943701Z"
    }
   },
   "source": [
    "# Don't worry about what this code does! It simply embeds a YouTube video into a code cell.\n",
    "from IPython.display import YouTubeVideo\n",
    "YouTubeVideo(\"4WzXo8eKLAg\")"
   ],
   "outputs": [
    {
     "data": {
      "text/plain": [
       "<IPython.lib.display.YouTubeVideo at 0x13a478f4190>"
      ],
      "text/html": [
       "\n",
       "        <iframe\n",
       "            width=\"400\"\n",
       "            height=\"300\"\n",
       "            src=\"https://www.youtube.com/embed/4WzXo8eKLAg\"\n",
       "            frameborder=\"0\"\n",
       "            allowfullscreen\n",
       "            \n",
       "        ></iframe>\n",
       "        "
      ],
      "image/jpeg": "[encoded data removed]"
     },
     "execution_count": 14,
     "metadata": {},
     "output_type": "execute_result"
    }
   ],
   "execution_count": 14
  },
  {
   "cell_type": "markdown",
   "id": "eb4c8b23",
   "metadata": {},
   "source": [
    "The data source we will use within this portion of the homework is [publicly provided](https://data.sfgov.org/City-Management-and-Ethics/Employee-Compensation/88g8-5mnd/data) by the City of San Francisco. We have filtered it to retain just the relevant columns and restricted the data to the calendar year 2019. Run the following cell to load our data into a table called `full_sf`."
   ]
  },
  {
   "cell_type": "code",
   "id": "1c4f4339",
   "metadata": {
    "ExecuteTime": {
     "end_time": "2025-10-10T15:16:46.369789Z",
     "start_time": "2025-10-10T15:16:46.161779Z"
    }
   },
   "source": [
    "full_sf = Table.read_table(\"sf2019.csv\")\n",
    "full_sf.show(5)"
   ],
   "outputs": [
    {
     "data": {
      "text/plain": [
       "<IPython.core.display.HTML object>"
      ],
      "text/html": [
       "<table border=\"1\" class=\"dataframe\">\n",
       "    <thead>\n",
       "        <tr>\n",
       "            <th>Organization Group</th> <th>Department</th> <th>Job Family</th> <th>Job</th> <th>Salary</th> <th>Overtime</th> <th>Benefits</th> <th>Total Compensation</th>\n",
       "        </tr>\n",
       "    </thead>\n",
       "    <tbody>\n",
       "        <tr>\n",
       "            <td>Public Protection </td> <td>Adult Probation</td> <td>Information Systems</td> <td>IS Trainer-Journey           </td> <td>91332 </td> <td>0       </td> <td>40059   </td> <td>131391            </td>\n",
       "        </tr>\n",
       "        <tr>\n",
       "            <td>Public Protection </td> <td>Adult Probation</td> <td>Information Systems</td> <td>IS Engineer-Assistant        </td> <td>123241</td> <td>0       </td> <td>49279   </td> <td>172520            </td>\n",
       "        </tr>\n",
       "        <tr>\n",
       "            <td>Public Protection </td> <td>Adult Probation</td> <td>Information Systems</td> <td>IS Business Analyst-Senior   </td> <td>115715</td> <td>0       </td> <td>46752   </td> <td>162468            </td>\n",
       "        </tr>\n",
       "        <tr>\n",
       "            <td>Public Protection </td> <td>Adult Probation</td> <td>Information Systems</td> <td>IS Business Analyst-Principal</td> <td>159394</td> <td>0       </td> <td>57312   </td> <td>216706            </td>\n",
       "        </tr>\n",
       "        <tr>\n",
       "            <td>Public Protection </td> <td>Adult Probation</td> <td>Information Systems</td> <td>IS Programmer Analyst        </td> <td>70035 </td> <td>0       </td> <td>28671   </td> <td>98706             </td>\n",
       "        </tr>\n",
       "    </tbody>\n",
       "</table>\n",
       "<p>... (44520 rows omitted)</p>"
      ]
     },
     "metadata": {},
     "output_type": "display_data"
    }
   ],
   "execution_count": 15
  },
  {
   "cell_type": "markdown",
   "id": "5377381a",
   "metadata": {},
   "source": [
    "The table has one row for each of the 44,525 San Francisco government employees in 2019.\n",
    "\n",
    "The first four columns describe the employee's job. For example, the employee in the third row of the table had a job called \"IS Business Analyst-Senior\". We will call this the employee's *position* or *job title*. The job was in a Job Family called Information Systems (hence the IS in the job title), and was in the Adult Probation Department that is part of the Public Protection Organization Group of the government. You will mostly be working with the `Job` column.\n",
    "\n",
    "The next three columns contain the dollar amounts paid to the employee in the calendar year 2019 for salary, overtime, and benefits. Note that an employee’s salary does not include their overtime earnings.\n",
    "\n",
    "The last column contains the total compensation paid to the employee. It is the sum of the previous three columns:\n",
    "\n",
    "$$\\text{Total Compensation} = \\text{Salary} + \\text{Overtime} + \\text{Benefits}$$\n",
    "\n",
    "For this homework, we will be using the following columns:\n",
    "1. `Organization Group`: A group of departments. For example, the Public Protection Org. Group includes departments such as the Police, Fire, Adult Protection, District Attorney, etc.\n",
    "2. `Department`: The primary organizational unit used by the City and County of San Francisco.\n",
    "3. `Job`: The specific position that a given worker fills.\n",
    "4. `Total Compensation`: The sum of a worker's salary, overtime, and benefits in 2019.\n",
    "\n",
    "\n",
    "Run the following cell to select the relevant columns and create a new table named `sf`."
   ]
  },
  {
   "cell_type": "code",
   "id": "53064a0f",
   "metadata": {
    "ExecuteTime": {
     "end_time": "2025-10-10T15:16:46.411504Z",
     "start_time": "2025-10-10T15:16:46.402702Z"
    }
   },
   "source": [
    "sf = full_sf.select(\"Job\", \"Department\", \"Organization Group\",  \"Total Compensation\")\n",
    "sf.show(5)"
   ],
   "outputs": [
    {
     "data": {
      "text/plain": [
       "<IPython.core.display.HTML object>"
      ],
      "text/html": [
       "<table border=\"1\" class=\"dataframe\">\n",
       "    <thead>\n",
       "        <tr>\n",
       "            <th>Job</th> <th>Department</th> <th>Organization Group</th> <th>Total Compensation</th>\n",
       "        </tr>\n",
       "    </thead>\n",
       "    <tbody>\n",
       "        <tr>\n",
       "            <td>IS Trainer-Journey           </td> <td>Adult Probation</td> <td>Public Protection </td> <td>131391            </td>\n",
       "        </tr>\n",
       "        <tr>\n",
       "            <td>IS Engineer-Assistant        </td> <td>Adult Probation</td> <td>Public Protection </td> <td>172520            </td>\n",
       "        </tr>\n",
       "        <tr>\n",
       "            <td>IS Business Analyst-Senior   </td> <td>Adult Probation</td> <td>Public Protection </td> <td>162468            </td>\n",
       "        </tr>\n",
       "        <tr>\n",
       "            <td>IS Business Analyst-Principal</td> <td>Adult Probation</td> <td>Public Protection </td> <td>216706            </td>\n",
       "        </tr>\n",
       "        <tr>\n",
       "            <td>IS Programmer Analyst        </td> <td>Adult Probation</td> <td>Public Protection </td> <td>98706             </td>\n",
       "        </tr>\n",
       "    </tbody>\n",
       "</table>\n",
       "<p>... (44520 rows omitted)</p>"
      ]
     },
     "metadata": {},
     "output_type": "display_data"
    }
   ],
   "execution_count": 16
  },
  {
   "cell_type": "markdown",
   "id": "4a3bc23a",
   "metadata": {},
   "source": [
    "We want to use this table to generate arrays with the job titles of the members of each **Organization Group**."
   ]
  },
  {
   "attachments": {},
   "cell_type": "markdown",
   "id": "762afdb9",
   "metadata": {},
   "source": [
    "**Question 1.** Set `job_titles` to a table with two columns. The first column should be called `Organization Group` and have the name of every \"Organization Group\" each listed only once in this column, and the second column should be called `Jobs` with each row in that second column containing an *array* of the names of all the job titles within that \"Organization Group\". Don't worry if there are multiple of the same job titles.\n",
    "\n",
    "*Hint 1:* Think about how `group` works: it collects values into an array and then applies a function to that array. We have defined two functions below for you, and you will need to use one of them in your call to `group`. \n",
    "\n",
    "*Hint 2:* You might need to rename one of the columns.\n"
   ]
  },
  {
   "cell_type": "code",
   "id": "5e523e2a",
   "metadata": {
    "tags": [],
    "ExecuteTime": {
     "end_time": "2025-10-10T15:25:16.911141Z",
     "start_time": "2025-10-10T15:25:16.587477Z"
    }
   },
   "source": [
    "# Pick one of the two functions defined below in your call to group.\n",
    "def first_item(array):\n",
    "    '''Returns the first item'''\n",
    "    return array.item(0)\n",
    "\n",
    "def full_array(array):\n",
    "    '''Returns the array that is passed through'''\n",
    "    return array \n",
    "\n",
    "# Make a call to group using one of the functions above when you define job_titles\n",
    "small_sf = sf.select(\"Job\", \"Organization Group\")\n",
    "organization = small_sf.group(\"Organization Group\", full_array)\n",
    "\n",
    "job_titles = Table().with_columns(\"Organization Group\", organization.column(\"Organization Group\"),\n",
    "                                  \"Jobs\", organization.column(\"Job full_array\"))\n",
    "job_titles"
   ],
   "outputs": [
    {
     "data": {
      "text/plain": [
       "Organization Group                       | Jobs\n",
       "Community Health                         | ['Painter Supervisor 1' 'Painter' 'Painter' ..., 'Nursin ...\n",
       "Culture & Recreation                     | ['Electrician' 'Executive Secretary 2' 'Bldgs & Grounds  ...\n",
       "General Administration & Finance         | ['Painter' 'Painter' 'Electrician' ..., 'Investigator, T ...\n",
       "Human Welfare & Neighborhood Development | ['Dept Head I' 'Administrative Analyst' 'Community Devel ...\n",
       "Public Protection                        | ['IS Trainer-Journey' 'IS Engineer-Assistant' 'IS Busine ...\n",
       "Public Works, Transportation & Commerce  | ['Heavy Equip Ops Asst Sprv' 'Heavy Equipment Ops Sprv'\n",
       " ..."
      ],
      "text/html": [
       "<table border=\"1\" class=\"dataframe\">\n",
       "    <thead>\n",
       "        <tr>\n",
       "            <th>Organization Group</th> <th>Jobs</th>\n",
       "        </tr>\n",
       "    </thead>\n",
       "    <tbody>\n",
       "        <tr>\n",
       "            <td>Community Health                        </td> <td>['Painter Supervisor 1' 'Painter' 'Painter' ..., 'Nursin ...</td>\n",
       "        </tr>\n",
       "        <tr>\n",
       "            <td>Culture & Recreation                    </td> <td>['Electrician' 'Executive Secretary 2' 'Bldgs & Grounds  ...</td>\n",
       "        </tr>\n",
       "        <tr>\n",
       "            <td>General Administration & Finance        </td> <td>['Painter' 'Painter' 'Electrician' ..., 'Investigator, T ...</td>\n",
       "        </tr>\n",
       "        <tr>\n",
       "            <td>Human Welfare & Neighborhood Development</td> <td>['Dept Head I' 'Administrative Analyst' 'Community Devel ...</td>\n",
       "        </tr>\n",
       "        <tr>\n",
       "            <td>Public Protection                       </td> <td>['IS Trainer-Journey' 'IS Engineer-Assistant' 'IS Busine ...</td>\n",
       "        </tr>\n",
       "        <tr>\n",
       "            <td>Public Works, Transportation & Commerce </td> <td>['Heavy Equip Ops Asst Sprv' 'Heavy Equipment Ops Sprv'\n",
       " ...</td>\n",
       "        </tr>\n",
       "    </tbody>\n",
       "</table>"
      ]
     },
     "execution_count": 22,
     "metadata": {},
     "output_type": "execute_result"
    }
   ],
   "execution_count": 22
  },
  {
   "cell_type": "code",
   "id": "1385268c",
   "metadata": {
    "deletable": false,
    "editable": false,
    "ExecuteTime": {
     "end_time": "2025-10-10T15:25:20.492150Z",
     "start_time": "2025-10-10T15:25:20.471412Z"
    }
   },
   "source": [
    "grader.check(\"q2_1\")"
   ],
   "outputs": [
    {
     "data": {
      "text/plain": [
       "q2_1 results: All test cases passed!"
      ],
      "text/html": [
       "<p><strong><pre style='display: inline;'>q2_1</pre></strong> passed! ✨</p>"
      ]
     },
     "execution_count": 23,
     "metadata": {},
     "output_type": "execute_result"
    }
   ],
   "execution_count": 23
  },
  {
   "cell_type": "markdown",
   "id": "d98bec3e",
   "metadata": {},
   "source": [
    "<!-- BEGIN QUESTION -->\n",
    "\n",
    "**Question 2.** At the moment, the `Job` column of the `sf` table is not sorted (no particular order). Would the arrays you generated in the `Jobs` column of the previous question be the same if we had sorted alphabetically instead before generating them? Explain your answer. To receive full credit, your answer should reference *how* the `.group` method works, and how sorting the `Jobs` column would affect this.\n",
    "\n",
    "*Note:* Two arrays are the **same** if they contain the same number of elements and the elements located at corresponding indexes in the two arrays are identical. An example of arrays that are NOT the same: `array([1,2]) != array([2,1])`.\n"
   ]
  },
  {
   "cell_type": "markdown",
   "id": "947400b3",
   "metadata": {},
   "source": "They would be sorted as well"
  },
  {
   "cell_type": "markdown",
   "id": "72051cfa",
   "metadata": {},
   "source": [
    "<!-- END QUESTION -->\n",
    "\n",
    "**Question 3.** Set `department_ranges` to a table containing departments as the rows, and the organization groups as the columns. The values in the rows should correspond to a total compensation range, where range is defined as the **difference between the highest total compensation and the lowest total compensation in the department for that organization group**.\n",
    "\n",
    "*Hint:* First you'll need to define a new function `compensation_range` which takes in an array of compensations and returns the range of compensations in that array.\n"
   ]
  },
  {
   "metadata": {
    "ExecuteTime": {
     "end_time": "2025-10-10T15:34:21.462859Z",
     "start_time": "2025-10-10T15:34:21.441049Z"
    }
   },
   "cell_type": "code",
   "source": "sf.where(\"Department\", are.containing(\"Academy\"))",
   "id": "28449f2fa5c08f5e",
   "outputs": [
    {
     "data": {
      "text/plain": [
       "Job                       | Department          | Organization Group   | Total Compensation\n",
       "Chief Stationary Engineer | Academy Of Sciences | Culture & Recreation | 199125\n",
       "Stationary Engineer       | Academy Of Sciences | Culture & Recreation | 698\n",
       "Stationary Engineer       | Academy Of Sciences | Culture & Recreation | 120\n",
       "Stationary Engineer       | Academy Of Sciences | Culture & Recreation | 4\n",
       "Stationary Engineer       | Academy Of Sciences | Culture & Recreation | 162026\n",
       "Stationary Engineer       | Academy Of Sciences | Culture & Recreation | 134027\n",
       "Stationary Engineer       | Academy Of Sciences | Culture & Recreation | 171752\n",
       "Stationary Engineer       | Academy Of Sciences | Culture & Recreation | 120017\n",
       "Stationary Engineer       | Academy Of Sciences | Culture & Recreation | 170240\n",
       "Stationary Engineer       | Academy Of Sciences | Culture & Recreation | 162291\n",
       "... (5 rows omitted)"
      ],
      "text/html": [
       "<table border=\"1\" class=\"dataframe\">\n",
       "    <thead>\n",
       "        <tr>\n",
       "            <th>Job</th> <th>Department</th> <th>Organization Group</th> <th>Total Compensation</th>\n",
       "        </tr>\n",
       "    </thead>\n",
       "    <tbody>\n",
       "        <tr>\n",
       "            <td>Chief Stationary Engineer</td> <td>Academy Of Sciences</td> <td>Culture & Recreation</td> <td>199125            </td>\n",
       "        </tr>\n",
       "        <tr>\n",
       "            <td>Stationary Engineer      </td> <td>Academy Of Sciences</td> <td>Culture & Recreation</td> <td>698               </td>\n",
       "        </tr>\n",
       "        <tr>\n",
       "            <td>Stationary Engineer      </td> <td>Academy Of Sciences</td> <td>Culture & Recreation</td> <td>120               </td>\n",
       "        </tr>\n",
       "        <tr>\n",
       "            <td>Stationary Engineer      </td> <td>Academy Of Sciences</td> <td>Culture & Recreation</td> <td>4                 </td>\n",
       "        </tr>\n",
       "        <tr>\n",
       "            <td>Stationary Engineer      </td> <td>Academy Of Sciences</td> <td>Culture & Recreation</td> <td>162026            </td>\n",
       "        </tr>\n",
       "        <tr>\n",
       "            <td>Stationary Engineer      </td> <td>Academy Of Sciences</td> <td>Culture & Recreation</td> <td>134027            </td>\n",
       "        </tr>\n",
       "        <tr>\n",
       "            <td>Stationary Engineer      </td> <td>Academy Of Sciences</td> <td>Culture & Recreation</td> <td>171752            </td>\n",
       "        </tr>\n",
       "        <tr>\n",
       "            <td>Stationary Engineer      </td> <td>Academy Of Sciences</td> <td>Culture & Recreation</td> <td>120017            </td>\n",
       "        </tr>\n",
       "        <tr>\n",
       "            <td>Stationary Engineer      </td> <td>Academy Of Sciences</td> <td>Culture & Recreation</td> <td>170240            </td>\n",
       "        </tr>\n",
       "        <tr>\n",
       "            <td>Stationary Engineer      </td> <td>Academy Of Sciences</td> <td>Culture & Recreation</td> <td>162291            </td>\n",
       "        </tr>\n",
       "    </tbody>\n",
       "</table>\n",
       "<p>... (5 rows omitted)</p>"
      ]
     },
     "execution_count": 35,
     "metadata": {},
     "output_type": "execute_result"
    }
   ],
   "execution_count": 35
  },
  {
   "cell_type": "code",
   "id": "11820bf3",
   "metadata": {
    "tags": [],
    "ExecuteTime": {
     "end_time": "2025-10-10T15:42:02.228529Z",
     "start_time": "2025-10-10T15:42:01.731233Z"
    }
   },
   "source": [
    "# Define compensation_range first\n",
    "def compensation_range(arr):\n",
    "    min_value = arr.min()\n",
    "    max_value = arr.max()\n",
    "    range = max_value - min_value\n",
    "    return range\n",
    "check = sf.pivot(\"Organization Group\", \"Department\", \"Total Compensation\",compensation_range)\n",
    "# department_ranges = sf.group(\"Department\", compensation_range).select(\"Department\", \"Total Compensation compensation_range\")\n",
    "department_ranges = check"
   ],
   "outputs": [],
   "execution_count": 43
  },
  {
   "cell_type": "code",
   "id": "439b216c",
   "metadata": {
    "deletable": false,
    "editable": false,
    "ExecuteTime": {
     "end_time": "2025-10-10T15:42:02.259958Z",
     "start_time": "2025-10-10T15:42:02.239040Z"
    }
   },
   "source": [
    "grader.check(\"q2_3\")"
   ],
   "outputs": [
    {
     "data": {
      "text/plain": [
       "q2_3 results: All test cases passed!"
      ],
      "text/html": [
       "<p><strong><pre style='display: inline;'>q2_3</pre></strong> passed! 🙌</p>"
      ]
     },
     "execution_count": 44,
     "metadata": {},
     "output_type": "execute_result"
    }
   ],
   "execution_count": 44
  },
  {
   "cell_type": "markdown",
   "id": "0a2b2bbd",
   "metadata": {},
   "source": [
    "<!-- BEGIN QUESTION -->\n",
    "\n",
    "**Question 4.** Why might some of the row values be `0` in the `department_ranges` table from the previous question.\n"
   ]
  },
  {
   "cell_type": "markdown",
   "id": "fc20ef5b",
   "metadata": {},
   "source": "If there is only one job in that group"
  },
  {
   "cell_type": "markdown",
   "id": "b156f296",
   "metadata": {},
   "source": [
    "<!-- END QUESTION -->\n",
    "\n",
    "**Question 5.** Find the number of departments appearing in the `sf` table that have an average total compensation of greater than 125,000 dollars; assign this value to the variable `num_over_125k`.\n",
    "\n",
    "*Note:* The variable names provided are meant to help guide the intermediate steps and general thought process. Feel free to delete them if you'd prefer to start from scratch, but make sure your final answer is assigned to `num_over_125k`!\n"
   ]
  },
  {
   "cell_type": "code",
   "id": "eac29e56",
   "metadata": {
    "tags": [],
    "ExecuteTime": {
     "end_time": "2025-10-10T15:48:50.921763Z",
     "start_time": "2025-10-10T15:48:50.584766Z"
    }
   },
   "source": [
    "depts_and_comp = sf.select(\"Department\", \"Total Compensation\")\n",
    "\n",
    "department_avg = depts_and_comp.group(\"Department\", np.mean)\n",
    "num_over_125k = len(department_avg.where(\"Total Compensation mean\", are.above(125000)))\n",
    "# num_over_125k\n",
    "num_over_125k"
   ],
   "outputs": [
    {
     "data": {
      "text/plain": [
       "2"
      ]
     },
     "execution_count": 52,
     "metadata": {},
     "output_type": "execute_result"
    }
   ],
   "execution_count": 52
  },
  {
   "cell_type": "code",
   "id": "9696f56c",
   "metadata": {
    "deletable": false,
    "editable": false,
    "ExecuteTime": {
     "end_time": "2025-10-10T15:48:52.007918Z",
     "start_time": "2025-10-10T15:48:51.987614Z"
    }
   },
   "source": [
    "grader.check(\"q2_5\")"
   ],
   "outputs": [
    {
     "data": {
      "text/plain": [
       "q2_5 results: All test cases passed!"
      ],
      "text/html": [
       "<p><strong><pre style='display: inline;'>q2_5</pre></strong> passed! 🙌</p>"
      ]
     },
     "execution_count": 53,
     "metadata": {},
     "output_type": "execute_result"
    }
   ],
   "execution_count": 53
  },
  {
   "cell_type": "markdown",
   "id": "8649a42c",
   "metadata": {},
   "source": [
    "## Submission\n",
    "\n",
    "Make sure you have run all cells in your notebook in order, so that all images/graphs appear in the output. Use the Github \"Export\" option to generate an HTML file for this notebook and upload it to Canvas. (If the export gives an error, try first running \"pip install nbconvert\" in the terminal.)"
   ]
  }
 ],
 "metadata": {
  "kernelspec": {
   "display_name": "Python 3",
   "language": "python",
   "name": "python3"
  },
  "language_info": {
   "codemirror_mode": {
    "name": "ipython",
    "version": 3
   },
   "file_extension": ".py",
   "mimetype": "text/x-python",
   "name": "python",
   "nbconvert_exporter": "python",
   "pygments_lexer": "ipython3",
   "version": "3.11.4"
  },
  "otter": {
   "OK_FORMAT": true,
   "tests": {
    "q1_1": {
     "name": "q1_1",
     "points": [
      0,
      0
     ],
     "suites": [
      {
       "cases": [
        {
         "code": ">>> # Make sure you have all the columns from both tables\n>>> set([\"Name\", \"Menu_Item\", \"Yelp\", \"Google\", \"Overall\", \"Cost\"]) == set(burritos.labels)\nTrue",
         "hidden": false,
         "locked": false
        },
        {
         "code": ">>> burritos.num_rows == 212\nTrue",
         "hidden": false,
         "locked": false
        }
       ],
       "scored": true,
       "setup": "",
       "teardown": "",
       "type": "doctest"
      }
     ]
    },
    "q1_4": {
     "name": "q1_4",
     "points": [
      1,
      1
     ],
     "suites": [
      {
       "cases": [
        {
         "code": ">>> # Number of columns should be 2\n>>> california_burritos.num_columns == 2\nTrue",
         "hidden": false,
         "locked": false
        },
        {
         "code": ">>> # Number of rows should be 19\n>>> california_burritos.num_rows == 19\nTrue",
         "hidden": false,
         "locked": false
        }
       ],
       "scored": true,
       "setup": "",
       "teardown": "",
       "type": "doctest"
      }
     ]
    },
    "q1_5": {
     "name": "q1_5",
     "points": [
      0
     ],
     "suites": [
      {
       "cases": [
        {
         "code": ">>> # Your answer should be a string\n>>> type(best_california_burrito) == str\nTrue",
         "hidden": false,
         "locked": false
        }
       ],
       "scored": true,
       "setup": "",
       "teardown": "",
       "type": "doctest"
      }
     ]
    },
    "q1_7": {
     "name": "q1_7",
     "points": [
      0
     ],
     "suites": [
      {
       "cases": [
        {
         "code": ">>> # Your answer should be between 0 and 100.\n>>> 0 <= burritos_less_than_six <= 100\nTrue",
         "hidden": false,
         "locked": false
        }
       ],
       "scored": true,
       "setup": "",
       "teardown": "",
       "type": "doctest"
      }
     ]
    },
    "q2_1": {
     "name": "q2_1",
     "points": [
      0,
      0,
      0,
      0
     ],
     "suites": [
      {
       "cases": [
        {
         "code": ">>> job_titles.num_columns\n2",
         "hidden": false,
         "locked": false
        },
        {
         "code": ">>> job_titles.num_rows\n6",
         "hidden": false,
         "locked": false
        },
        {
         "code": ">>> # Make sure that you have the correct column labels!\n>>> np.asarray(job_titles.labels).item(1) != \"Job full_array\"\nTrue",
         "hidden": false,
         "locked": false
        },
        {
         "code": ">>> # Make sure that you have the correct column labels!\n>>> np.asarray(job_titles.labels).item(1) == \"Jobs\"\nTrue",
         "hidden": false,
         "locked": false
        }
       ],
       "scored": true,
       "setup": "",
       "teardown": "",
       "type": "doctest"
      }
     ]
    },
    "q2_3": {
     "name": "q2_3",
     "points": [
      0,
      0,
      2
     ],
     "suites": [
      {
       "cases": [
        {
         "code": ">>> # Double check that your salary_range function is correct\n>>> compensation_range(make_array(5, 1, 20, 1000)) == 999\nTrue",
         "hidden": false,
         "locked": false
        },
        {
         "code": ">>> # Make sure that the table has departments as the rows and organization groups as the columns.\n>>> set([\"Department\", \"Community Health\", \"Culture & Recreation\", \"General Administration & Finance\", \"Human Welfare & Neighborhood Development\", \"Public Protection\", \"Public Works, Transportation & Commerce\"]) == set(department_ranges.labels)\nTrue",
         "hidden": false,
         "locked": false
        },
        {
         "code": ">>> sum(department_ranges.column(1))\n554179.0",
         "hidden": false,
         "locked": false
        }
       ],
       "scored": true,
       "setup": "",
       "teardown": "",
       "type": "doctest"
      }
     ]
    },
    "q2_5": {
     "name": "q2_5",
     "points": [
      2,
      2
     ],
     "suites": [
      {
       "cases": [
        {
         "code": ">>> # Make sure that your final answer is a number\n>>> isinstance(num_over_125k, int)\nTrue",
         "hidden": false,
         "locked": false
        },
        {
         "code": ">>> # Make sure that your answer makes sense given the sf table\n>>> 0 <= num_over_125k <= 51\nTrue",
         "hidden": false,
         "locked": false
        }
       ],
       "scored": true,
       "setup": "",
       "teardown": "",
       "type": "doctest"
      }
     ]
    }
   }
  }
 },
 "nbformat": 4,
 "nbformat_minor": 5
}
