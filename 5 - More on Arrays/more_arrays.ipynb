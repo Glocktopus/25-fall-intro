{
 "cells": [
  {
   "cell_type": "code",
   "execution_count": 2,
   "id": "224aef4b",
   "metadata": {
    "trusted": false
   },
   "outputs": [],
   "source": [
    "from datascience import *\n",
    "import numpy as np\n",
    "\n",
    "%matplotlib inline\n",
    "import matplotlib.pyplot as plots\n",
    "plots.style.use('fivethirtyeight')"
   ]
  },
  {
   "cell_type": "markdown",
   "id": "1750cd53",
   "metadata": {},
   "source": [
    "# Review"
   ]
  },
  {
   "cell_type": "markdown",
   "id": "824ed93f",
   "metadata": {},
   "source": [
    "## Discussion Question 1"
   ]
  },
  {
   "cell_type": "markdown",
   "id": "66a96862",
   "metadata": {},
   "source": [
    "The past weeks temperatures in Fahrenheit were:\n",
    "70, 68, 66, 71, 72, 70, 68\n",
    "\n",
    "The connection between Fahrenheit temperature F and Celsius temperature C is:\n",
    "C = 5/9(F - 32)\n",
    "\n",
    "Use an array calculation to convert all these Fahrenheit temperatures to Celsius."
   ]
  },
  {
   "cell_type": "code",
   "execution_count": 10,
   "id": "8a76c6a6",
   "metadata": {},
   "outputs": [
    {
     "data": {
      "text/plain": [
       "array([ 38.88888889,  37.77777778,  36.66666667,  39.44444444,\n",
       "        40.        ,  38.88888889,  37.77777778])"
      ]
     },
     "execution_count": 10,
     "metadata": {},
     "output_type": "execute_result"
    }
   ],
   "source": [
    "fahrenheit_temps = make_array(70, 68, 66, 71, 72, 70, 68)\n",
    "celsius_temps = 5 / 9 * fahrenheit_temps\n",
    "celsius_temps"
   ]
  },
  {
   "cell_type": "code",
   "execution_count": null,
   "id": "323b6e27",
   "metadata": {},
   "outputs": [],
   "source": [
    "# Bonus"
   ]
  }
 ],
 "metadata": {
  "kernelspec": {
   "display_name": "Python 3",
   "language": "python",
   "name": "python3"
  },
  "language_info": {
   "codemirror_mode": {
    "name": "ipython",
    "version": 3
   },
   "file_extension": ".py",
   "mimetype": "text/x-python",
   "name": "python",
   "nbconvert_exporter": "python",
   "pygments_lexer": "ipython3",
   "version": "3.12.1"
  }
 },
 "nbformat": 4,
 "nbformat_minor": 5
}
